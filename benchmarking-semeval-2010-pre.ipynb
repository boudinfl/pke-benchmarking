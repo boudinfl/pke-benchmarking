{
 "cells": [
  {
   "cell_type": "markdown",
   "id": "2a9266ff",
   "metadata": {},
   "source": [
    "# Load a spacy model with in-words hyphens fix"
   ]
  },
  {
   "cell_type": "code",
   "execution_count": 1,
   "id": "fb58a4a0",
   "metadata": {},
   "outputs": [],
   "source": [
    "import spacy\n",
    "from spacy.tokenizer import _get_regex_pattern\n",
    "\n",
    "nlp = spacy.load(\"en_core_web_sm\", disable=['ner', 'textcat', 'parser'])\n",
    "nlp.add_pipe(\"sentencizer\")\n",
    "\n",
    "# Tokenization fix for in-word hyphens (e.g. 'non-linear' would be kept \n",
    "# as one token instead of default spacy behavior of 'non', '-', 'linear')\n",
    "# https://spacy.io/usage/linguistic-features#native-tokenizer-additions\n",
    "\n",
    "from spacy.lang.char_classes import ALPHA, ALPHA_LOWER, ALPHA_UPPER\n",
    "from spacy.lang.char_classes import CONCAT_QUOTES, LIST_ELLIPSES, LIST_ICONS\n",
    "from spacy.util import compile_infix_regex\n",
    "\n",
    "# Modify tokenizer infix patterns\n",
    "infixes = (\n",
    "    LIST_ELLIPSES\n",
    "    + LIST_ICONS\n",
    "    + [\n",
    "        r\"(?<=[0-9])[+\\-\\*^](?=[0-9-])\",\n",
    "        r\"(?<=[{al}{q}])\\.(?=[{au}{q}])\".format(\n",
    "            al=ALPHA_LOWER, au=ALPHA_UPPER, q=CONCAT_QUOTES\n",
    "        ),\n",
    "        r\"(?<=[{a}]),(?=[{a}])\".format(a=ALPHA),\n",
    "        # ✅ Commented out regex that splits on hyphens between letters:\n",
    "        # r\"(?<=[{a}])(?:{h})(?=[{a}])\".format(a=ALPHA, h=HYPHENS),\n",
    "        r\"(?<=[{a}0-9])[:<>=/](?=[{a}])\".format(a=ALPHA),\n",
    "    ]\n",
    ")\n",
    "\n",
    "infix_re = compile_infix_regex(infixes)\n",
    "nlp.tokenizer.infix_finditer = infix_re.finditer"
   ]
  },
  {
   "cell_type": "markdown",
   "id": "3531efc2",
   "metadata": {},
   "source": [
    "# Pre-process train and test splits using spacy and serialize docbins"
   ]
  },
  {
   "cell_type": "code",
   "execution_count": 2,
   "id": "7f9e3c81",
   "metadata": {},
   "outputs": [
    {
     "name": "stderr",
     "output_type": "stream",
     "text": [
      "No config specified, defaulting to: sem_eval/raw\n"
     ]
    },
    {
     "name": "stdout",
     "output_type": "stream",
     "text": [
      "Downloading and preparing dataset sem_eval/raw to /Users/boudinfl/.cache/huggingface/datasets/taln-ls2n___sem_eval/raw/1.0.0/b40e008b5c96137733e24d9d244d70aa1fe6353ee65e180d8f6948af4027fbe4...\n"
     ]
    },
    {
     "data": {
      "application/vnd.jupyter.widget-view+json": {
       "model_id": "2e92700674db4d03b5f73c620c47645e",
       "version_major": 2,
       "version_minor": 0
      },
      "text/plain": [
       "Downloading data files:   0%|          | 0/2 [00:00<?, ?it/s]"
      ]
     },
     "metadata": {},
     "output_type": "display_data"
    },
    {
     "data": {
      "application/vnd.jupyter.widget-view+json": {
       "model_id": "eae8c1aab1a94d6ba0695324c99610e7",
       "version_major": 2,
       "version_minor": 0
      },
      "text/plain": [
       "Downloading data:   0%|          | 0.00/11.2M [00:00<?, ?B/s]"
      ]
     },
     "metadata": {},
     "output_type": "display_data"
    },
    {
     "data": {
      "application/vnd.jupyter.widget-view+json": {
       "model_id": "0b8c217839054edea35002f31600307d",
       "version_major": 2,
       "version_minor": 0
      },
      "text/plain": [
       "Downloading data:   0%|          | 0.00/16.1M [00:00<?, ?B/s]"
      ]
     },
     "metadata": {},
     "output_type": "display_data"
    },
    {
     "data": {
      "application/vnd.jupyter.widget-view+json": {
       "model_id": "fb9bcbced86742eda3960d3d9de442c3",
       "version_major": 2,
       "version_minor": 0
      },
      "text/plain": [
       "Extracting data files:   0%|          | 0/2 [00:00<?, ?it/s]"
      ]
     },
     "metadata": {},
     "output_type": "display_data"
    },
    {
     "data": {
      "application/vnd.jupyter.widget-view+json": {
       "model_id": "",
       "version_major": 2,
       "version_minor": 0
      },
      "text/plain": [
       "Generating train split: 0 examples [00:00, ? examples/s]"
      ]
     },
     "metadata": {},
     "output_type": "display_data"
    },
    {
     "data": {
      "application/vnd.jupyter.widget-view+json": {
       "model_id": "",
       "version_major": 2,
       "version_minor": 0
      },
      "text/plain": [
       "Generating test split: 0 examples [00:00, ? examples/s]"
      ]
     },
     "metadata": {},
     "output_type": "display_data"
    },
    {
     "name": "stdout",
     "output_type": "stream",
     "text": [
      "Dataset sem_eval downloaded and prepared to /Users/boudinfl/.cache/huggingface/datasets/taln-ls2n___sem_eval/raw/1.0.0/b40e008b5c96137733e24d9d244d70aa1fe6353ee65e180d8f6948af4027fbe4. Subsequent calls will reuse this data.\n"
     ]
    },
    {
     "data": {
      "application/vnd.jupyter.widget-view+json": {
       "model_id": "0261d1dc714646cdb5261b6d5e281e5b",
       "version_major": 2,
       "version_minor": 0
      },
      "text/plain": [
       "  0%|          | 0/2 [00:00<?, ?it/s]"
      ]
     },
     "metadata": {},
     "output_type": "display_data"
    },
    {
     "data": {
      "application/vnd.jupyter.widget-view+json": {
       "model_id": "d1554eb3e8f042508a653d91186158c4",
       "version_major": 2,
       "version_minor": 0
      },
      "text/plain": [
       "  0%|          | 0/144 [00:00<?, ?it/s]"
      ]
     },
     "metadata": {},
     "output_type": "display_data"
    },
    {
     "data": {
      "application/vnd.jupyter.widget-view+json": {
       "model_id": "43dbca58a0de4305bba66b875041ca42",
       "version_major": 2,
       "version_minor": 0
      },
      "text/plain": [
       "  0%|          | 0/100 [00:00<?, ?it/s]"
      ]
     },
     "metadata": {},
     "output_type": "display_data"
    }
   ],
   "source": [
    "import os\n",
    "from tqdm.notebook import tqdm\n",
    "from datasets import load_dataset\n",
    "from spacy.tokens import DocBin\n",
    "\n",
    "# load the inspec dataset\n",
    "benchmark = \"semeval-2010-pre\"\n",
    "dataset = load_dataset('taln-ls2n/semeval-2010-pre')\n",
    "\n",
    "# pre-process training and test splits\n",
    "for split in ['train', 'test']:\n",
    "    output_file = \"data/{}.{}.docbin\".format(benchmark, split)\n",
    "    if os.path.exists(output_file):\n",
    "        continue\n",
    "    doc_bin = DocBin()\n",
    "    for sample in tqdm(dataset[split]):\n",
    "        doc = nlp(sample[\"title\"]+\". \"+sample[\"abstract\"])\n",
    "        doc_bin.add(doc)\n",
    "    bytes_data = doc_bin.to_bytes()\n",
    "    with open(output_file, 'wb') as o:\n",
    "        o.write(bytes_data)\n",
    "    del doc_bin"
   ]
  },
  {
   "cell_type": "markdown",
   "id": "e504c882",
   "metadata": {},
   "source": [
    "# Compute DF counts (TfIdf) and LDA model (TopicalPageRank)"
   ]
  },
  {
   "cell_type": "code",
   "execution_count": 3,
   "id": "42e727ac",
   "metadata": {},
   "outputs": [
    {
     "name": "stderr",
     "output_type": "stream",
     "text": [
      "/Users/boudinfl/Documents/GitHub/pke-benchmarking/venv/lib/python3.9/site-packages/sklearn/utils/deprecation.py:87: FutureWarning: Function get_feature_names is deprecated; get_feature_names is deprecated in 1.0 and will be removed in 1.2. Please use get_feature_names_out instead.\n",
      "  warnings.warn(msg, category=FutureWarning)\n"
     ]
    }
   ],
   "source": [
    "import os\n",
    "from pke import compute_document_frequency, compute_lda_model\n",
    "from string import punctuation\n",
    "\n",
    "df_file = \"data/{}.df.gz\".format(benchmark)\n",
    "train_file = \"data/{}.train.docbin\".format(benchmark)\n",
    "train = []\n",
    "\n",
    "if not os.path.exists(df_file):\n",
    "    if not len(train):\n",
    "        with open(train_file, 'rb') as f: \n",
    "            doc_bin = DocBin().from_bytes(f.read())\n",
    "            train = list(doc_bin.get_docs(nlp.vocab))\n",
    "    \n",
    "    compute_document_frequency(\n",
    "        documents=train,\n",
    "        output_file=df_file, \n",
    "        language='en',                   # language of the input files\n",
    "        normalization='stemming',        # use porter stemmer\n",
    "        stoplist=list(punctuation),      # stoplist (punctuation marks)\n",
    "        n=5                              # compute n-grams up to 5-grams\n",
    "    )\n",
    "\n",
    "lda_file = \"data/{}.lda.pickle.gz\".format(benchmark)\n",
    "if not os.path.exists(lda_file):\n",
    "    if not len(train):\n",
    "        with open(train_file, 'rb') as f: \n",
    "            doc_bin = DocBin().from_bytes(f.read())\n",
    "            train = list(doc_bin.get_docs(nlp.vocab))\n",
    "            \n",
    "    compute_lda_model(\n",
    "        documents=train,\n",
    "        output_file=lda_file,\n",
    "        n_topics=1000,              # number of topics\n",
    "        language='en',              # language of the input files\n",
    "        stoplist=list(punctuation), # stoplist (punctuation marks)\n",
    "        normalization='stemming'    # use porter stemmer\n",
    "    )"
   ]
  },
  {
   "cell_type": "markdown",
   "id": "e084fe9a",
   "metadata": {},
   "source": [
    "# Load DF counts and LDA model"
   ]
  },
  {
   "cell_type": "code",
   "execution_count": 4,
   "id": "7853dfdc",
   "metadata": {},
   "outputs": [],
   "source": [
    "from pke import load_document_frequency_file, load_lda_model\n",
    "\n",
    "df = load_document_frequency_file(input_file=df_file)\n",
    "lda_model = load_lda_model(input_file=lda_file)"
   ]
  },
  {
   "cell_type": "code",
   "execution_count": 5,
   "id": "be4f6ef4",
   "metadata": {},
   "outputs": [
    {
     "data": {
      "application/vnd.jupyter.widget-view+json": {
       "model_id": "9be6084f5d414c7c881d622692b2052c",
       "version_major": 2,
       "version_minor": 0
      },
      "text/plain": [
       "  0%|          | 0/100 [00:00<?, ?it/s]"
      ]
     },
     "metadata": {},
     "output_type": "display_data"
    },
    {
     "data": {
      "application/vnd.jupyter.widget-view+json": {
       "model_id": "61e11ae7b65341418700bc1c9d4a57fc",
       "version_major": 2,
       "version_minor": 0
      },
      "text/plain": [
       "  0%|          | 0/100 [00:00<?, ?it/s]"
      ]
     },
     "metadata": {},
     "output_type": "display_data"
    },
    {
     "data": {
      "application/vnd.jupyter.widget-view+json": {
       "model_id": "4faaf9b754a94c04b9a2428f4d373c91",
       "version_major": 2,
       "version_minor": 0
      },
      "text/plain": [
       "  0%|          | 0/100 [00:00<?, ?it/s]"
      ]
     },
     "metadata": {},
     "output_type": "display_data"
    },
    {
     "data": {
      "application/vnd.jupyter.widget-view+json": {
       "model_id": "60b5c3b69e7f462eb8ea51211c9b76a6",
       "version_major": 2,
       "version_minor": 0
      },
      "text/plain": [
       "  0%|          | 0/100 [00:00<?, ?it/s]"
      ]
     },
     "metadata": {},
     "output_type": "display_data"
    },
    {
     "data": {
      "application/vnd.jupyter.widget-view+json": {
       "model_id": "f5d6f5606164425b9e7c1ecde0171a77",
       "version_major": 2,
       "version_minor": 0
      },
      "text/plain": [
       "  0%|          | 0/100 [00:00<?, ?it/s]"
      ]
     },
     "metadata": {},
     "output_type": "display_data"
    },
    {
     "data": {
      "application/vnd.jupyter.widget-view+json": {
       "model_id": "a9eefe52e19f4554bba7b62d2f26b397",
       "version_major": 2,
       "version_minor": 0
      },
      "text/plain": [
       "  0%|          | 0/100 [00:00<?, ?it/s]"
      ]
     },
     "metadata": {},
     "output_type": "display_data"
    },
    {
     "data": {
      "application/vnd.jupyter.widget-view+json": {
       "model_id": "32e9c0fcbe714e70a0c6d2eec1084b3c",
       "version_major": 2,
       "version_minor": 0
      },
      "text/plain": [
       "  0%|          | 0/100 [00:00<?, ?it/s]"
      ]
     },
     "metadata": {},
     "output_type": "display_data"
    },
    {
     "data": {
      "application/vnd.jupyter.widget-view+json": {
       "model_id": "26f28ffd968a4c7689d12dec7970105e",
       "version_major": 2,
       "version_minor": 0
      },
      "text/plain": [
       "  0%|          | 0/100 [00:00<?, ?it/s]"
      ]
     },
     "metadata": {},
     "output_type": "display_data"
    },
    {
     "name": "stderr",
     "output_type": "stream",
     "text": [
      "/Users/boudinfl/Documents/GitHub/pke-benchmarking/venv/lib/python3.9/site-packages/sklearn/feature_extraction/text.py:404: UserWarning: Your stop_words may be inconsistent with your preprocessing. Tokenizing the stop words generated tokens ['ll', 've'] not in stop_words.\n",
      "  warnings.warn(\n"
     ]
    }
   ],
   "source": [
    "from pke.unsupervised import *\n",
    "from timeit import default_timer as timer\n",
    "\n",
    "test_file = \"data/{}.test.docbin\".format(benchmark)\n",
    "with open(test_file, 'rb') as f: \n",
    "    doc_bin = DocBin().from_bytes(f.read())\n",
    "    test = list(doc_bin.get_docs(nlp.vocab))\n",
    "\n",
    "outputs = {}\n",
    "elapsed_times = {}\n",
    "for model in [FirstPhrases, TextRank, SingleRank, TopicRank, PositionRank, MultipartiteRank, TfIdf, TopicalPageRank]:\n",
    "    outputs[model.__name__] = []\n",
    "    \n",
    "    extractor = model()\n",
    "    start = timer()\n",
    "    for i, doc in enumerate(tqdm(test)):\n",
    "        extractor.load_document(input=doc, language='en')\n",
    "        extractor.grammar_selection(grammar=\"NP: {<ADJ>*<NOUN|PROPN>+}\")\n",
    "        if model.__name__ in [\"TfIdf\"]:\n",
    "            extractor.candidate_weighting(df=df)\n",
    "        elif model.__name__ in [\"TopicalPageRank\"]:\n",
    "            extractor.candidate_weighting(lda_model=lda_model)\n",
    "        else:\n",
    "            extractor.candidate_weighting()\n",
    "        outputs[model.__name__].append([u for u,v in extractor.get_n_best(n=10, stemming=True)])\n",
    "    end = timer()\n",
    "    elapsed_times[model.__name__] = end - start"
   ]
  },
  {
   "cell_type": "code",
   "execution_count": 6,
   "id": "1249a8c4",
   "metadata": {},
   "outputs": [
    {
     "data": {
      "application/vnd.jupyter.widget-view+json": {
       "model_id": "fb776da2480e4a119cc6330f56c88ad1",
       "version_major": 2,
       "version_minor": 0
      },
      "text/plain": [
       "  0%|          | 0/100 [00:00<?, ?it/s]"
      ]
     },
     "metadata": {},
     "output_type": "display_data"
    }
   ],
   "source": [
    "from nltk.stem.snowball import SnowballStemmer as Stemmer\n",
    "import numpy as np\n",
    "    \n",
    "# populates the references list with stemmed keyphrases\n",
    "references = []\n",
    "for sample in tqdm(dataset['test']):\n",
    "    sample_keyphrases = []\n",
    "    for keyphrase in sample[\"keyphrases\"]:\n",
    "        # tokenize keyphrase\n",
    "        tokens = [token.text for token in nlp(keyphrase)]\n",
    "        # normalize tokens using Porter's stemming\n",
    "        stems = [Stemmer('porter').stem(tok.lower()) for tok in tokens]\n",
    "        sample_keyphrases.append(\" \".join(stems))\n",
    "    references.append(sample_keyphrases)\n",
    "\n",
    "def evaluate(top_N_keyphrases, references, cutoff=5):\n",
    "    P = len(set(top_N_keyphrases[:cutoff]) & set(references)) / len(top_N_keyphrases[:cutoff])\n",
    "    R = len(set(top_N_keyphrases[:cutoff]) & set(references)) / len(references)\n",
    "    F = (2*P*R)/(P+R) if (P+R) > 0 else 0 \n",
    "    return (P, R, F)"
   ]
  },
  {
   "cell_type": "code",
   "execution_count": 7,
   "id": "f2a7d4e8",
   "metadata": {},
   "outputs": [
    {
     "name": "stdout",
     "output_type": "stream",
     "text": [
      "## Benchmarking on semeval-2010-pre\n",
      "| Model | it/s |  F@5 | F@10 |\n",
      "| :---- | ----:| ---: | ---: |\n",
      "| FirstPhrases  | 190.3 | 13.96 | 14.94 |\n",
      "| TextRank  | 121.6 | 9.32 | 13.42 |\n",
      "| SingleRank  | 116.9 | 11.55 | 16.29 |\n",
      "| TopicRank  | 83.3 | 12.07 | 14.46 |\n",
      "| PositionRank  | 115.7 | 12.54 | 17.32 |\n",
      "| MultipartiteRank  | 60.9 | 13.84 | 15.61 |\n",
      "| TfIdf  | 193.5 | 13.20 | 16.08 |\n",
      "| TopicalPageRank  | 25.4 | 11.53 | 16.32 |\n"
     ]
    }
   ],
   "source": [
    "print(\"## Benchmarking on {}\".format(benchmark))\n",
    "print(\"| Model | it/s |  F@5 | F@10 |\")\n",
    "print(\"| :---- | ----:| ---: | ---: |\")\n",
    "\n",
    "# loop through the models\n",
    "for model in outputs:\n",
    "    \n",
    "    f_scores = []\n",
    "    # compute the P, R, F scores for the model\n",
    "    for cutoff in [5, 10]:\n",
    "        scores = []\n",
    "        for i, output in enumerate(outputs[model]):\n",
    "            scores.append(evaluate(output, references[i], cutoff))\n",
    "\n",
    "        # compute the average scores\n",
    "        P, R, F = np.mean(scores, axis=0)\n",
    "        f_scores.append(F)\n",
    "        \n",
    "    print(\"| {}  | {:.1f} | {:.2f} | {:.2f} |\".format(model,  len(test)/ elapsed_times[model], f_scores[0]*100, f_scores[1]*100))"
   ]
  },
  {
   "cell_type": "markdown",
   "id": "b841bd1d",
   "metadata": {},
   "source": [
    "## Benchmarking on semeval-2010-pre\n",
    "| Model | it/s |  F@5 | F@10 |\n",
    "| :---- | ----:| ---: | ---: |\n",
    "| FirstPhrases  | 190.3 | 13.96 | 14.94 |\n",
    "| TextRank  | 121.6 | 9.32 | 13.42 |\n",
    "| SingleRank  | 116.9 | 11.55 | 16.29 |\n",
    "| TopicRank  | 83.3 | 12.07 | 14.46 |\n",
    "| PositionRank  | 115.7 | 12.54 | 17.32 |\n",
    "| MultipartiteRank  | 60.9 | 13.84 | 15.61 |\n",
    "| TfIdf  | 193.5 | 13.20 | 16.08 |\n",
    "| TopicalPageRank  | 25.4 | 11.53 | 16.32 |"
   ]
  },
  {
   "cell_type": "code",
   "execution_count": null,
   "id": "7b4f5059",
   "metadata": {},
   "outputs": [],
   "source": []
  }
 ],
 "metadata": {
  "kernelspec": {
   "display_name": "Python 3 (ipykernel)",
   "language": "python",
   "name": "python3"
  },
  "language_info": {
   "codemirror_mode": {
    "name": "ipython",
    "version": 3
   },
   "file_extension": ".py",
   "mimetype": "text/x-python",
   "name": "python",
   "nbconvert_exporter": "python",
   "pygments_lexer": "ipython3",
   "version": "3.9.13"
  }
 },
 "nbformat": 4,
 "nbformat_minor": 5
}
