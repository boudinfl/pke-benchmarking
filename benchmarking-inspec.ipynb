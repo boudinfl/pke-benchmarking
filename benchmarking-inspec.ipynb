{
 "cells": [
  {
   "cell_type": "markdown",
   "id": "2a9266ff",
   "metadata": {},
   "source": [
    "# Load a spacy model with in-words hyphens fix"
   ]
  },
  {
   "cell_type": "code",
   "execution_count": 1,
   "id": "fb58a4a0",
   "metadata": {},
   "outputs": [],
   "source": [
    "import spacy\n",
    "from spacy.tokenizer import _get_regex_pattern\n",
    "\n",
    "nlp = spacy.load(\"en_core_web_sm\", disable=['ner', 'textcat', 'parser'])\n",
    "nlp.add_pipe(\"sentencizer\")\n",
    "\n",
    "# Tokenization fix for in-word hyphens (e.g. 'non-linear' would be kept \n",
    "# as one token instead of default spacy behavior of 'non', '-', 'linear')\n",
    "# https://spacy.io/usage/linguistic-features#native-tokenizer-additions\n",
    "\n",
    "from spacy.lang.char_classes import ALPHA, ALPHA_LOWER, ALPHA_UPPER\n",
    "from spacy.lang.char_classes import CONCAT_QUOTES, LIST_ELLIPSES, LIST_ICONS\n",
    "from spacy.util import compile_infix_regex\n",
    "\n",
    "# Modify tokenizer infix patterns\n",
    "infixes = (\n",
    "    LIST_ELLIPSES\n",
    "    + LIST_ICONS\n",
    "    + [\n",
    "        r\"(?<=[0-9])[+\\-\\*^](?=[0-9-])\",\n",
    "        r\"(?<=[{al}{q}])\\.(?=[{au}{q}])\".format(\n",
    "            al=ALPHA_LOWER, au=ALPHA_UPPER, q=CONCAT_QUOTES\n",
    "        ),\n",
    "        r\"(?<=[{a}]),(?=[{a}])\".format(a=ALPHA),\n",
    "        # ✅ Commented out regex that splits on hyphens between letters:\n",
    "        # r\"(?<=[{a}])(?:{h})(?=[{a}])\".format(a=ALPHA, h=HYPHENS),\n",
    "        r\"(?<=[{a}0-9])[:<>=/](?=[{a}])\".format(a=ALPHA),\n",
    "    ]\n",
    ")\n",
    "\n",
    "infix_re = compile_infix_regex(infixes)\n",
    "nlp.tokenizer.infix_finditer = infix_re.finditer"
   ]
  },
  {
   "cell_type": "markdown",
   "id": "3531efc2",
   "metadata": {},
   "source": [
    "# Pre-process train and test splits using spacy and serialize docbins"
   ]
  },
  {
   "cell_type": "code",
   "execution_count": 2,
   "id": "7f9e3c81",
   "metadata": {},
   "outputs": [
    {
     "name": "stderr",
     "output_type": "stream",
     "text": [
      "No config specified, defaulting to: inspec/raw\n",
      "Reusing dataset inspec (/Users/boudinfl/.cache/huggingface/datasets/taln-ls2n___inspec/raw/1.1.0/0ae146cabe770846946b3279b4c751efe0aca2dd68b3f24427d4624cd22bb20d)\n"
     ]
    },
    {
     "data": {
      "application/vnd.jupyter.widget-view+json": {
       "model_id": "389d08da4c24439fac0056c866ce98c1",
       "version_major": 2,
       "version_minor": 0
      },
      "text/plain": [
       "  0%|          | 0/3 [00:00<?, ?it/s]"
      ]
     },
     "metadata": {},
     "output_type": "display_data"
    }
   ],
   "source": [
    "import os\n",
    "from tqdm.notebook import tqdm\n",
    "from datasets import load_dataset\n",
    "from spacy.tokens import DocBin\n",
    "\n",
    "# load the inspec dataset\n",
    "benchmark = \"inspec\"\n",
    "dataset = load_dataset('taln-ls2n/inspec')\n",
    "\n",
    "# pre-process training and test splits\n",
    "for split in ['train', 'test']:\n",
    "    output_file = \"data/{}.{}.docbin\".format(benchmark, split)\n",
    "    if os.path.exists(output_file):\n",
    "        continue\n",
    "    doc_bin = DocBin()\n",
    "    for sample in tqdm(dataset[split]):\n",
    "        doc = nlp(sample[\"title\"]+\". \"+sample[\"abstract\"])\n",
    "        doc_bin.add(doc)\n",
    "    bytes_data = doc_bin.to_bytes()\n",
    "    with open(output_file, 'wb') as o:\n",
    "        o.write(bytes_data)\n",
    "    del doc_bin"
   ]
  },
  {
   "cell_type": "markdown",
   "id": "e504c882",
   "metadata": {},
   "source": [
    "# Compute DF counts (TfIdf), LDA model (TopicalPageRank) and Kea model"
   ]
  },
  {
   "cell_type": "code",
   "execution_count": 3,
   "id": "42e727ac",
   "metadata": {},
   "outputs": [],
   "source": [
    "import os\n",
    "from pke import compute_document_frequency, compute_lda_model\n",
    "from string import punctuation\n",
    "\n",
    "df_file = \"data/{}.df.gz\".format(benchmark)\n",
    "train_file = \"data/{}.train.docbin\".format(benchmark)\n",
    "train = []\n",
    "\n",
    "if not os.path.exists(df_file):\n",
    "    if not len(train):\n",
    "        with open(train_file, 'rb') as f: \n",
    "            doc_bin = DocBin().from_bytes(f.read())\n",
    "            train = list(doc_bin.get_docs(nlp.vocab))\n",
    "    \n",
    "    compute_document_frequency(\n",
    "        documents=train,\n",
    "        output_file=df_file, \n",
    "        language='en',                   # language of the input files\n",
    "        normalization='stemming',        # use porter stemmer\n",
    "        stoplist=list(punctuation),      # stoplist (punctuation marks)\n",
    "        n=5                              # compute n-grams up to 5-grams\n",
    "    )\n",
    "\n",
    "lda_file = \"data/{}.lda.pickle.gz\".format(benchmark)\n",
    "if not os.path.exists(lda_file):\n",
    "    if not len(train):\n",
    "        with open(train_file, 'rb') as f: \n",
    "            doc_bin = DocBin().from_bytes(f.read())\n",
    "            train = list(doc_bin.get_docs(nlp.vocab))\n",
    "            \n",
    "    compute_lda_model(\n",
    "        documents=train,\n",
    "        output_file=lda_file,\n",
    "        n_topics=1000,              # number of topics\n",
    "        language='en',              # language of the input files\n",
    "        stoplist=list(punctuation), # stoplist (punctuation marks)\n",
    "        normalization='stemming'    # use porter stemmer\n",
    "    )"
   ]
  },
  {
   "cell_type": "markdown",
   "id": "e084fe9a",
   "metadata": {},
   "source": [
    "# Load DF counts and LDA model"
   ]
  },
  {
   "cell_type": "code",
   "execution_count": 4,
   "id": "7853dfdc",
   "metadata": {},
   "outputs": [],
   "source": [
    "from pke import load_document_frequency_file, load_lda_model\n",
    "\n",
    "df = load_document_frequency_file(input_file=df_file)\n",
    "lda_model = load_lda_model(input_file=lda_file)"
   ]
  },
  {
   "cell_type": "markdown",
   "id": "bac46a1c",
   "metadata": {},
   "source": [
    "# Train a Kea model"
   ]
  },
  {
   "cell_type": "code",
   "execution_count": 5,
   "id": "530d5301",
   "metadata": {},
   "outputs": [
    {
     "data": {
      "application/vnd.jupyter.widget-view+json": {
       "model_id": "3b59ba81f95c4c0ab0e1ffc4a10b38d7",
       "version_major": 2,
       "version_minor": 0
      },
      "text/plain": [
       "  0%|          | 0/1000 [00:00<?, ?it/s]"
      ]
     },
     "metadata": {},
     "output_type": "display_data"
    }
   ],
   "source": [
    "import pke\n",
    "from pke import train_supervised_model\n",
    "from nltk.stem.snowball import SnowballStemmer as Stemmer\n",
    "\n",
    "kea_file = \"data/{}.kea.model.pickle\".format(benchmark)\n",
    "if not os.path.exists(kea_file):\n",
    "    if not len(train):\n",
    "        with open(train_file, 'rb') as f: \n",
    "            doc_bin = DocBin().from_bytes(f.read())\n",
    "            train = list(doc_bin.get_docs(nlp.vocab))\n",
    "        \n",
    "        samples = []\n",
    "        references = {}\n",
    "        for sample in tqdm(dataset[\"train\"]):\n",
    "            samples.append((sample[\"id\"], train[len(samples)]))\n",
    "            references[sample[\"id\"]] = []\n",
    "            for keyphrase in sample[\"keyphrases\"]:\n",
    "                # tokenize keyphrase\n",
    "                tokens = [token.text for token in nlp(keyphrase)]\n",
    "                # normalize tokens using Porter's stemming\n",
    "                stems = [Stemmer('porter').stem(tok.lower()) for tok in tokens]\n",
    "                references[sample[\"id\"]].append(\" \".join(stems))\n",
    "        \n",
    "    train_supervised_model(\n",
    "        documents=samples,\n",
    "        references=references,\n",
    "        model_file=kea_file,\n",
    "        language='en',\n",
    "        normalization='stemming',\n",
    "        df=df,\n",
    "        model=pke.supervised.Kea()\n",
    "    )"
   ]
  },
  {
   "cell_type": "code",
   "execution_count": 6,
   "id": "be4f6ef4",
   "metadata": {},
   "outputs": [
    {
     "data": {
      "application/vnd.jupyter.widget-view+json": {
       "model_id": "46d370c71ede4e0aba3981d4d14be751",
       "version_major": 2,
       "version_minor": 0
      },
      "text/plain": [
       "  0%|          | 0/500 [00:00<?, ?it/s]"
      ]
     },
     "metadata": {},
     "output_type": "display_data"
    },
    {
     "data": {
      "application/vnd.jupyter.widget-view+json": {
       "model_id": "3ace264fc15a42fea5b94e4aa176d85c",
       "version_major": 2,
       "version_minor": 0
      },
      "text/plain": [
       "  0%|          | 0/500 [00:00<?, ?it/s]"
      ]
     },
     "metadata": {},
     "output_type": "display_data"
    },
    {
     "data": {
      "application/vnd.jupyter.widget-view+json": {
       "model_id": "a449e558471b473d963cc51a5e263b83",
       "version_major": 2,
       "version_minor": 0
      },
      "text/plain": [
       "  0%|          | 0/500 [00:00<?, ?it/s]"
      ]
     },
     "metadata": {},
     "output_type": "display_data"
    },
    {
     "data": {
      "application/vnd.jupyter.widget-view+json": {
       "model_id": "d4a31bde1eb947c39ca4c75115cac12e",
       "version_major": 2,
       "version_minor": 0
      },
      "text/plain": [
       "  0%|          | 0/500 [00:00<?, ?it/s]"
      ]
     },
     "metadata": {},
     "output_type": "display_data"
    },
    {
     "data": {
      "application/vnd.jupyter.widget-view+json": {
       "model_id": "bd0f9b9634834c3c99804165e310a90c",
       "version_major": 2,
       "version_minor": 0
      },
      "text/plain": [
       "  0%|          | 0/500 [00:00<?, ?it/s]"
      ]
     },
     "metadata": {},
     "output_type": "display_data"
    },
    {
     "data": {
      "application/vnd.jupyter.widget-view+json": {
       "model_id": "d6f81e0a1b62440bb99b97c25a7bf0cc",
       "version_major": 2,
       "version_minor": 0
      },
      "text/plain": [
       "  0%|          | 0/500 [00:00<?, ?it/s]"
      ]
     },
     "metadata": {},
     "output_type": "display_data"
    },
    {
     "data": {
      "application/vnd.jupyter.widget-view+json": {
       "model_id": "15d916e90de2403b997cc88ce2e8185e",
       "version_major": 2,
       "version_minor": 0
      },
      "text/plain": [
       "  0%|          | 0/500 [00:00<?, ?it/s]"
      ]
     },
     "metadata": {},
     "output_type": "display_data"
    },
    {
     "data": {
      "application/vnd.jupyter.widget-view+json": {
       "model_id": "4732b0490bd449278d6a7b157bb0b1c0",
       "version_major": 2,
       "version_minor": 0
      },
      "text/plain": [
       "  0%|          | 0/500 [00:00<?, ?it/s]"
      ]
     },
     "metadata": {},
     "output_type": "display_data"
    },
    {
     "name": "stderr",
     "output_type": "stream",
     "text": [
      "/Users/boudinfl/Documents/GitHub/pke-benchmarking/venv/lib/python3.9/site-packages/sklearn/feature_extraction/text.py:404: UserWarning: Your stop_words may be inconsistent with your preprocessing. Tokenizing the stop words generated tokens ['ll', 've'] not in stop_words.\n",
      "  warnings.warn(\n"
     ]
    },
    {
     "data": {
      "application/vnd.jupyter.widget-view+json": {
       "model_id": "5bd96b626b704786a9f3dfec90330680",
       "version_major": 2,
       "version_minor": 0
      },
      "text/plain": [
       "  0%|          | 0/500 [00:00<?, ?it/s]"
      ]
     },
     "metadata": {},
     "output_type": "display_data"
    },
    {
     "data": {
      "application/vnd.jupyter.widget-view+json": {
       "model_id": "59fc266b7e7649ed948971abc3d4e382",
       "version_major": 2,
       "version_minor": 0
      },
      "text/plain": [
       "  0%|          | 0/500 [00:00<?, ?it/s]"
      ]
     },
     "metadata": {},
     "output_type": "display_data"
    },
    {
     "data": {
      "application/vnd.jupyter.widget-view+json": {
       "model_id": "d39a54135fd3446099b0463ce53f627f",
       "version_major": 2,
       "version_minor": 0
      },
      "text/plain": [
       "  0%|          | 0/500 [00:00<?, ?it/s]"
      ]
     },
     "metadata": {},
     "output_type": "display_data"
    }
   ],
   "source": [
    "from pke.unsupervised import *\n",
    "from pke.supervised import *\n",
    "from timeit import default_timer as timer\n",
    "\n",
    "test_file = \"data/{}.test.docbin\".format(benchmark)\n",
    "with open(test_file, 'rb') as f: \n",
    "    doc_bin = DocBin().from_bytes(f.read())\n",
    "    test = list(doc_bin.get_docs(nlp.vocab))\n",
    "\n",
    "outputs = {}\n",
    "elapsed_times = {}\n",
    "for model in [FirstPhrases, TextRank, SingleRank, TopicRank, PositionRank, MultipartiteRank, TfIdf, TopicalPageRank, YAKE, KPMiner, Kea]:\n",
    "    outputs[model.__name__] = []\n",
    "    \n",
    "    extractor = model()\n",
    "    start = timer()\n",
    "    for i, doc in enumerate(tqdm(test)):\n",
    "        extractor.load_document(input=doc, language='en')\n",
    "        extractor.grammar_selection(grammar=\"NP: {<ADJ>*<NOUN|PROPN>+}\")\n",
    "        if model.__name__ in [\"TfIdf\", \"KPMiner\"]:\n",
    "            extractor.candidate_weighting(df=df)\n",
    "        elif model.__name__ in [\"Kea\"]:\n",
    "            extractor.candidate_weighting(df=df, model_file=kea_file)\n",
    "        elif model.__name__ in [\"TopicalPageRank\"]:\n",
    "            extractor.candidate_weighting(lda_model=lda_model)\n",
    "        else:\n",
    "            extractor.candidate_weighting()\n",
    "        outputs[model.__name__].append([u for u,v in extractor.get_n_best(n=10, stemming=True)])\n",
    "    end = timer()\n",
    "    elapsed_times[model.__name__] = end - start"
   ]
  },
  {
   "cell_type": "code",
   "execution_count": 7,
   "id": "1249a8c4",
   "metadata": {},
   "outputs": [
    {
     "data": {
      "application/vnd.jupyter.widget-view+json": {
       "model_id": "20d6fc105c8c436dafe7f987f5a35533",
       "version_major": 2,
       "version_minor": 0
      },
      "text/plain": [
       "  0%|          | 0/500 [00:00<?, ?it/s]"
      ]
     },
     "metadata": {},
     "output_type": "display_data"
    }
   ],
   "source": [
    "from nltk.stem.snowball import SnowballStemmer as Stemmer\n",
    "import numpy as np\n",
    "    \n",
    "# populates the references list with stemmed keyphrases\n",
    "references = []\n",
    "for sample in tqdm(dataset['test']):\n",
    "    sample_keyphrases = []\n",
    "    for keyphrase in sample[\"keyphrases\"]:\n",
    "        # tokenize keyphrase\n",
    "        tokens = [token.text for token in nlp(keyphrase)]\n",
    "        # normalize tokens using Porter's stemming\n",
    "        stems = [Stemmer('porter').stem(tok.lower()) for tok in tokens]\n",
    "        sample_keyphrases.append(\" \".join(stems))\n",
    "    references.append(sample_keyphrases)\n",
    "\n",
    "def evaluate(top_N_keyphrases, references, cutoff=5):\n",
    "    P = len(set(top_N_keyphrases[:cutoff]) & set(references)) / len(top_N_keyphrases[:cutoff])\n",
    "    R = len(set(top_N_keyphrases[:cutoff]) & set(references)) / len(references)\n",
    "    F = (2*P*R)/(P+R) if (P+R) > 0 else 0 \n",
    "    return (P, R, F)"
   ]
  },
  {
   "cell_type": "code",
   "execution_count": 8,
   "id": "f2a7d4e8",
   "metadata": {},
   "outputs": [
    {
     "name": "stdout",
     "output_type": "stream",
     "text": [
      "## Benchmarking on inspec\n",
      "| Model | it/s |  F@5 | F@10 |\n",
      "| :---- | ----:| ---: | ---: |\n",
      "| FirstPhrases  | 296.3 | 24.04 | 28.61 |\n",
      "| TextRank  | 160.8 | 27.07 | 34.20 |\n",
      "| SingleRank  | 179.9 | 27.83 | 34.18 |\n",
      "| TopicRank  | 123.7 | 24.45 | 28.60 |\n",
      "| PositionRank  | 166.5 | 28.04 | 33.20 |\n",
      "| MultipartiteRank  | 93.7 | 24.69 | 29.59 |\n",
      "| TfIdf  | 300.1 | 28.75 | 34.94 |\n",
      "| TopicalPageRank  | 20.3 | 28.23 | 33.97 |\n",
      "| YAKE  | 46.3 | 29.46 | 33.01 |\n",
      "| KPMiner  | 312.2 | 26.80 | 33.47 |\n",
      "| Kea  | 237.0 | 28.70 | 33.54 |\n"
     ]
    }
   ],
   "source": [
    "print(\"## Benchmarking on {}\".format(benchmark))\n",
    "print(\"| Model | it/s |  F@5 | F@10 |\")\n",
    "print(\"| :---- | ----:| ---: | ---: |\")\n",
    "\n",
    "# loop through the models\n",
    "for model in outputs:\n",
    "    \n",
    "    f_scores = []\n",
    "    # compute the P, R, F scores for the model\n",
    "    for cutoff in [5, 10]:\n",
    "        scores = []\n",
    "        for i, output in enumerate(outputs[model]):\n",
    "            scores.append(evaluate(output, references[i], cutoff))\n",
    "\n",
    "        # compute the average scores\n",
    "        P, R, F = np.mean(scores, axis=0)\n",
    "        f_scores.append(F)\n",
    "        \n",
    "    print(\"| {}  | {:.1f} | {:.2f} | {:.2f} |\".format(model,  len(test)/ elapsed_times[model], f_scores[0]*100, f_scores[1]*100))"
   ]
  },
  {
   "cell_type": "markdown",
   "id": "b841bd1d",
   "metadata": {},
   "source": [
    "## Benchmarking on inspec\n",
    "| Model | it/s |  F@5 | F@10 |\n",
    "| :---- | ----:| ---: | ---: |\n",
    "| FirstPhrases  | 296.3 | 24.04 | 28.61 |\n",
    "| TextRank  | 160.8 | 27.07 | 34.20 |\n",
    "| SingleRank  | 179.9 | 27.83 | 34.18 |\n",
    "| TopicRank  | 123.7 | 24.45 | 28.60 |\n",
    "| PositionRank  | 166.5 | 28.04 | 33.20 |\n",
    "| MultipartiteRank  | 93.7 | 24.69 | 29.59 |\n",
    "| TfIdf  | 300.1 | 28.75 | 34.94 |\n",
    "| TopicalPageRank  | 20.3 | 28.23 | 33.97 |\n",
    "| YAKE  | 46.3 | 29.46 | 33.01 |\n",
    "| KPMiner  | 312.2 | 26.80 | 33.47 |\n",
    "| Kea  | 237.0 | 28.70 | 33.54 |"
   ]
  }
 ],
 "metadata": {
  "kernelspec": {
   "display_name": "Python 3 (ipykernel)",
   "language": "python",
   "name": "python3"
  },
  "language_info": {
   "codemirror_mode": {
    "name": "ipython",
    "version": 3
   },
   "file_extension": ".py",
   "mimetype": "text/x-python",
   "name": "python",
   "nbconvert_exporter": "python",
   "pygments_lexer": "ipython3",
   "version": "3.9.13"
  }
 },
 "nbformat": 4,
 "nbformat_minor": 5
}
